{
  "cells": [
    {
      "cell_type": "markdown",
      "source": [
        "Префиксное дерево"
      ],
      "metadata": {
        "id": "CR2ZqsUsZLHx"
      },
      "id": "CR2ZqsUsZLHx"
    },
    {
      "cell_type": "code",
      "execution_count": 34,
      "id": "e0e26772",
      "metadata": {
        "id": "e0e26772"
      },
      "outputs": [],
      "source": [
        "# Узел префексного дерева с атрибутами- потомок узла и флаг с окончанием слова\n",
        "class TrieNode:\n",
        "    def __init__(self):\n",
        "        self.child = {}\n",
        "        self.end = False\n",
        "\n",
        "class Trie:\n",
        "    def __init__(self):\n",
        "        self.root = TrieNode()\n",
        "    \"\"\"\n",
        "    Функция для вставки слова в дерево\n",
        "    Если символ отсутствует в потомках узла-\n",
        "    создается новый, в конце устанавливается флаг конца слова\n",
        "    \"\"\"\n",
        "    def insert(self, word):\n",
        "        node = self.root\n",
        "        for char in word:\n",
        "            if char not in node.child:\n",
        "                node.child[char] = TrieNode()\n",
        "            node = node.child[char]\n",
        "        node.end = True\n",
        "\n",
        "\n",
        "    def has_child(self, node):\n",
        "        return bool(node.child)\n",
        "\n",
        "    def search(self, word):\n",
        "        node = self.root\n",
        "        for char in word:\n",
        "            # Возвращает False и none если слово не найдено\n",
        "            if char not in node.child:\n",
        "                return False, None\n",
        "            node = node.child[char]\n",
        "\n",
        "         #self.has_child(node) возвращается для проверки части слова\n",
        "         #Возвращает true/false и слово\n",
        "        return node.end or self.has_child(node), word\n",
        "\n",
        "    def get_words_with_prefix(self, prefix):\n",
        "        node = self.root\n",
        "\n",
        "        # Перемещение по префиксу в дереве\n",
        "        for char in prefix:\n",
        "            if char not in node.child:\n",
        "\n",
        "                #Если префикс не найден возвращается пустой список совпадений\n",
        "                return []\n",
        "            node = node.child[char]\n",
        "\n",
        "        words = []\n",
        "\n",
        "        # Рекурсивно получаем все слова, которые начинаются с заданного префикса\n",
        "        self._get_words_from_node(node, prefix, words)\n",
        "        return words\n",
        "\n",
        "    def _get_words_from_node(self, node, prefix, words):\n",
        "        if node.end:\n",
        "            words.append(prefix)\n",
        "\n",
        "        for char, child_node in node.child.items():\n",
        "            self._get_words_from_node(child_node, prefix + char, words)"
      ]
    },
    {
      "cell_type": "code",
      "execution_count": 33,
      "id": "b15609c6",
      "metadata": {
        "colab": {
          "base_uri": "https://localhost:8080/"
        },
        "id": "b15609c6",
        "outputId": "be1debe7-3b7e-4d1f-d33a-22877617bf82"
      },
      "outputs": [
        {
          "output_type": "stream",
          "name": "stdout",
          "text": [
            "(True, 'куршавель')\n",
            "(True, 'курш')\n",
            "(True, 'Оль')\n",
            "(True, 'лежебока')\n",
            "(False, None)\n",
            "(False, None)\n",
            "['океан', 'округ']\n"
          ]
        }
      ],
      "source": [
        "trie = Trie()\n",
        "\n",
        "#добавление слов в дерево\n",
        "trie.insert(\"куршавель\")\n",
        "trie.insert(\"кушать\")\n",
        "trie.insert(\"лежебока\")\n",
        "trie.insert(\"лежа\")\n",
        "trie.insert(\"Ольга\")\n",
        "trie.insert(\"океан\")\n",
        "trie.insert(\"округ\")\n",
        "\n",
        "\n",
        "# слова и префиксы, которые есть с дереве\n",
        "print(trie.search(\"куршавель\"))\n",
        "print(trie.search(\"курш\"))\n",
        "print(trie.search(\"Оль\"))\n",
        "print(trie.search(\"лежебока\"))\n",
        "\n",
        "# слова которых нет в дереве\n",
        "print(trie.search(\"лук\"))\n",
        "print(trie.search(\"мяу\"))\n",
        "\n",
        "# Возвращение всех слов начинающихся с заданного префикса\n",
        "prefix = \"ок\"\n",
        "words_with_prefix = trie.get_words_with_prefix(prefix)\n",
        "print(words_with_prefix)"
      ]
    }
  ],
  "metadata": {
    "kernelspec": {
      "display_name": "Python 3 (ipykernel)",
      "language": "python",
      "name": "python3"
    },
    "language_info": {
      "codemirror_mode": {
        "name": "ipython",
        "version": 3
      },
      "file_extension": ".py",
      "mimetype": "text/x-python",
      "name": "python",
      "nbconvert_exporter": "python",
      "pygments_lexer": "ipython3",
      "version": "3.9.13"
    },
    "colab": {
      "provenance": []
    }
  },
  "nbformat": 4,
  "nbformat_minor": 5
}